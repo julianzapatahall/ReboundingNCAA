{
  "nbformat": 4,
  "nbformat_minor": 0,
  "metadata": {
    "colab": {
      "provenance": []
    },
    "kernelspec": {
      "name": "python3",
      "display_name": "Python 3"
    },
    "language_info": {
      "name": "python"
    }
  },
  "cells": [
    {
      "cell_type": "code",
      "execution_count": null,
      "metadata": {
        "id": "maxdCBQONer6"
      },
      "outputs": [],
      "source": []
    },
    {
      "cell_type": "markdown",
      "source": [
        "What do we want to achieve in this project?\n",
        "\n",
        "\n",
        "Data description\n"
      ],
      "metadata": {
        "id": "Ioj6IGEdNkm9"
      }
    }
  ]
}